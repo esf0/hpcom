{
 "cells": [
  {
   "cell_type": "code",
   "execution_count": 1,
   "outputs": [
    {
     "name": "stderr",
     "output_type": "stream",
     "text": [
      "2023-08-14 17:48:54.903895: I tensorflow/core/platform/cpu_feature_guard.cc:182] This TensorFlow binary is optimized to use available CPU instructions in performance-critical operations.\n",
      "To enable the following instructions: AVX2 FMA, in other operations, rebuild TensorFlow with the appropriate compiler flags.\n",
      "2023-08-14 17:48:55.468665: W tensorflow/compiler/tf2tensorrt/utils/py_utils.cc:38] TF-TRT Warning: Could not find TensorRT\n"
     ]
    },
    {
     "name": "stdout",
     "output_type": "stream",
     "text": [
      "[PhysicalDevice(name='/physical_device:GPU:0', device_type='GPU')]\n"
     ]
    },
    {
     "name": "stderr",
     "output_type": "stream",
     "text": [
      "2023-08-14 17:48:56.244189: I tensorflow/compiler/xla/stream_executor/cuda/cuda_gpu_executor.cc:996] successful NUMA node read from SysFS had negative value (-1), but there must be at least one NUMA node, so returning NUMA node zero. See more at https://github.com/torvalds/linux/blob/v6.0/Documentation/ABI/testing/sysfs-bus-pci#L344-L355\n",
      "2023-08-14 17:48:56.260261: I tensorflow/compiler/xla/stream_executor/cuda/cuda_gpu_executor.cc:996] successful NUMA node read from SysFS had negative value (-1), but there must be at least one NUMA node, so returning NUMA node zero. See more at https://github.com/torvalds/linux/blob/v6.0/Documentation/ABI/testing/sysfs-bus-pci#L344-L355\n",
      "2023-08-14 17:48:56.260428: I tensorflow/compiler/xla/stream_executor/cuda/cuda_gpu_executor.cc:996] successful NUMA node read from SysFS had negative value (-1), but there must be at least one NUMA node, so returning NUMA node zero. See more at https://github.com/torvalds/linux/blob/v6.0/Documentation/ABI/testing/sysfs-bus-pci#L344-L355\n"
     ]
    }
   ],
   "source": [
    "import tensorflow as tf\n",
    "print(tf.config.list_physical_devices('GPU'))"
   ],
   "metadata": {
    "collapsed": false,
    "ExecuteTime": {
     "end_time": "2023-08-14T16:48:56.264893490Z",
     "start_time": "2023-08-14T16:48:54.730091679Z"
    }
   }
  },
  {
   "cell_type": "code",
   "execution_count": 2,
   "outputs": [],
   "source": [
    "import matplotlib.pyplot as plt\n",
    "import numpy as np\n",
    "import scipy as sp\n",
    "\n",
    "from datetime import datetime\n",
    "\n",
    "from hpcom.signal import create_ofdm_parameters, generate_ofdm_signal, decode_ofdm_signal, dbm_to_mw\n",
    "from hpcom.metrics import get_average_power, get_energy\n",
    "\n",
    "from hpcom.signal import gen_wdm_bit_sequence\n",
    "from hpcom.modulation import get_constellation_point, get_modulation_type_from_order, get_scale_coef_constellation\n",
    "from hpcom.channel import create_channel_parameters\n",
    "\n",
    "from hpcom.channel import create_channel_parameters, full_line_model_default, full_line_model_wdm, full_line_model, full_line_model_back_to_back, full_line_model_ofdm\n",
    "from hpcom.signal import create_wdm_parameters, generate_wdm, nonlinear_shift\n",
    "\n",
    "import tensorflow as tf\n",
    "\n",
    "import hpcom\n",
    "import ssfm_gpu\n",
    "\n",
    "from importlib import reload\n",
    "# reload(hpcom)"
   ],
   "metadata": {
    "collapsed": false,
    "ExecuteTime": {
     "end_time": "2023-08-14T16:48:56.579898361Z",
     "start_time": "2023-08-14T16:48:56.266257478Z"
    }
   }
  },
  {
   "cell_type": "code",
   "execution_count": 3,
   "outputs": [
    {
     "name": "stdout",
     "output_type": "stream",
     "text": [
      "1 Physical GPUs, 1 Logical GPUs\n"
     ]
    },
    {
     "name": "stderr",
     "output_type": "stream",
     "text": [
      "2023-08-14 17:48:57.705703: I tensorflow/compiler/xla/stream_executor/cuda/cuda_gpu_executor.cc:996] successful NUMA node read from SysFS had negative value (-1), but there must be at least one NUMA node, so returning NUMA node zero. See more at https://github.com/torvalds/linux/blob/v6.0/Documentation/ABI/testing/sysfs-bus-pci#L344-L355\n",
      "2023-08-14 17:48:57.705913: I tensorflow/compiler/xla/stream_executor/cuda/cuda_gpu_executor.cc:996] successful NUMA node read from SysFS had negative value (-1), but there must be at least one NUMA node, so returning NUMA node zero. See more at https://github.com/torvalds/linux/blob/v6.0/Documentation/ABI/testing/sysfs-bus-pci#L344-L355\n",
      "2023-08-14 17:48:57.706067: I tensorflow/compiler/xla/stream_executor/cuda/cuda_gpu_executor.cc:996] successful NUMA node read from SysFS had negative value (-1), but there must be at least one NUMA node, so returning NUMA node zero. See more at https://github.com/torvalds/linux/blob/v6.0/Documentation/ABI/testing/sysfs-bus-pci#L344-L355\n",
      "2023-08-14 17:48:57.755521: I tensorflow/compiler/xla/stream_executor/cuda/cuda_gpu_executor.cc:996] successful NUMA node read from SysFS had negative value (-1), but there must be at least one NUMA node, so returning NUMA node zero. See more at https://github.com/torvalds/linux/blob/v6.0/Documentation/ABI/testing/sysfs-bus-pci#L344-L355\n",
      "2023-08-14 17:48:57.755670: I tensorflow/compiler/xla/stream_executor/cuda/cuda_gpu_executor.cc:996] successful NUMA node read from SysFS had negative value (-1), but there must be at least one NUMA node, so returning NUMA node zero. See more at https://github.com/torvalds/linux/blob/v6.0/Documentation/ABI/testing/sysfs-bus-pci#L344-L355\n",
      "2023-08-14 17:48:57.755793: I tensorflow/compiler/xla/stream_executor/cuda/cuda_gpu_executor.cc:996] successful NUMA node read from SysFS had negative value (-1), but there must be at least one NUMA node, so returning NUMA node zero. See more at https://github.com/torvalds/linux/blob/v6.0/Documentation/ABI/testing/sysfs-bus-pci#L344-L355\n",
      "2023-08-14 17:48:57.755902: I tensorflow/core/common_runtime/gpu/gpu_device.cc:1635] Created device /job:localhost/replica:0/task:0/device:GPU:0 with 4096 MB memory:  -> device: 0, name: NVIDIA GeForce RTX 3070 Laptop GPU, pci bus id: 0000:01:00.0, compute capability: 8.6\n"
     ]
    }
   ],
   "source": [
    "gpus = tf.config.list_physical_devices('GPU')\n",
    "if gpus:\n",
    "    # Restrict TensorFlow to only allocate 4GB of memory on the first GPU\n",
    "    try:\n",
    "        tf.config.set_logical_device_configuration(\n",
    "            gpus[0],\n",
    "            [tf.config.LogicalDeviceConfiguration(memory_limit=4096)])\n",
    "        logical_gpus = tf.config.list_logical_devices('GPU')\n",
    "        print(len(gpus), \"Physical GPUs,\", len(logical_gpus), \"Logical GPUs\")\n",
    "    except RuntimeError as e:\n",
    "        # Virtual devices must be set before GPUs have been initialized\n",
    "        print(e)"
   ],
   "metadata": {
    "collapsed": false,
    "ExecuteTime": {
     "end_time": "2023-08-14T16:48:57.761466436Z",
     "start_time": "2023-08-14T16:48:57.758821432Z"
    }
   }
  },
  {
   "cell_type": "markdown",
   "source": [
    "# WDM performance"
   ],
   "metadata": {
    "collapsed": false,
    "ExecuteTime": {
     "end_time": "2023-08-14T15:49:45.813517013Z",
     "start_time": "2023-08-14T15:49:45.769106045Z"
    }
   }
  },
  {
   "cell_type": "code",
   "execution_count": 4,
   "metadata": {
    "collapsed": true,
    "ExecuteTime": {
     "end_time": "2023-08-14T16:57:47.700855441Z",
     "start_time": "2023-08-14T16:57:47.658357964Z"
    }
   },
   "outputs": [],
   "source": []
  },
  {
   "cell_type": "markdown",
   "source": [
    "# OFDM performance"
   ],
   "metadata": {
    "collapsed": false
   }
  },
  {
   "cell_type": "code",
   "execution_count": 5,
   "outputs": [
    {
     "name": "stdout",
     "output_type": "stream",
     "text": [
      "Average signal power (x / y): 0.0031547 / 0.0031541 (has to be close to 0.0031548)\n",
      "propagation took 1027.1999999999998 ms\n",
      "search 0 polarisation points took 437.14799999999997 ms\n",
      "search 0 polarisation BER took 711.708 ms\n",
      "search 1 polarisation points took 431.088 ms\n",
      "search 1 polarisation BER took 720.132 ms\n",
      "BER (x / y): (0.0, 0) / (0.0, 0)\n",
      "Q^2-factor (x / y): inf / inf\n",
      "EVM (x / y): 0.24230579412646536 / 0.2421546244125963\n",
      "MI (x / y): 2.7725833649493055 / 2.772580767323366\n"
     ]
    },
    {
     "data": {
      "text/plain": "{'points': [array([-0.00130944+0.00225042j,  0.0020423 +0.00124363j,\n          0.00212662+0.00126127j, ...,  0.0005722 +0.00083679j,\n         -0.00238003-0.00115115j, -0.00057252-0.00105486j]),\n  array([ 0.00274034-0.00175147j,  0.00194504+0.00142993j,\n          0.00036322+0.00240721j, ..., -0.0014589 +0.00190811j,\n          0.00080677-0.00070079j, -0.00093145+0.00059773j])],\n 'points_orig': [array([-0.00078496+0.00235489j,  0.00235489+0.00078496j,\n          0.00235489+0.00078496j, ...,  0.00078496+0.00078496j,\n         -0.00235489-0.00078496j, -0.00078496-0.00078496j]),\n  array([ 0.00235489-0.00235489j,  0.00235489+0.00078496j,\n          0.00078496+0.00235489j, ..., -0.00078496+0.00235489j,\n          0.00078496-0.00078496j, -0.00078496+0.00078496j])],\n 'points_shifted': [array([-0.00080509+0.0024838j ,  0.00226585+0.00078483j,\n          0.00235223+0.00078419j, ...,  0.00073862+0.00069851j,\n         -0.00257719-0.00062242j, -0.00078527-0.00091216j]),\n  array([ 0.0023136 -0.00229862j,  0.00220997+0.00098822j,\n          0.00086732+0.00228201j, ..., -0.00102446+0.00217993j,\n          0.00064181-0.00085818j, -0.00078589+0.00078366j])],\n 'points_found': [array([-1.+3.j,  3.+1.j,  3.+1.j, ...,  1.+1.j, -3.-1.j, -1.-1.j]),\n  array([ 3.-3.j,  3.+1.j,  1.+3.j, ..., -1.+3.j,  1.-1.j, -1.+1.j])],\n 'ber': [(0.0, 0), (0.0, 0)],\n 'q': [inf, inf],\n 'evm': [0.24230579412646536, 0.2421546244125963],\n 'mi': [2.7725833649493055, 2.772580767323366]}"
     },
     "execution_count": 5,
     "metadata": {},
     "output_type": "execute_result"
    }
   ],
   "source": [
    "# create parameters\n",
    "power_range = np.arange(-10, 10, 3)\n",
    "\n",
    "channel = create_channel_parameters(n_spans=12,\n",
    "                                    z_span=80,\n",
    "                                    alpha_db=0.2,\n",
    "                                    gamma=1.2,\n",
    "                                    noise_figure_db=4.5,\n",
    "                                    dispersion_parameter=16.8,\n",
    "                                    dz=1)\n",
    "\n",
    "all_results = []\n",
    "\n",
    "for p_ave_dbm in power_range:\n",
    "    \n",
    "    print('p_ave_dbm = ', p_ave_dbm, ' dBm')\n",
    "\n",
    "    ofdm = hpcom.signal.create_ofdm_parameters(n_carriers=512, \n",
    "                                               p_ave_dbm=p_ave_dbm, \n",
    "                                               n_symbols=2**11, \n",
    "                                               m_order=16,\n",
    "                                               # symb_freq=34e9,\n",
    "                                               symb_freq=100e6,\n",
    "                                               cp_len=0, n_guard=0, n_pilot=0,\n",
    "                                               n_polarisations=2, seed='fixed')\n",
    "    \n",
    "    all_results.append(full_line_model_ofdm(channel, ofdm, verbose=3))"
   ],
   "metadata": {
    "collapsed": false,
    "ExecuteTime": {
     "end_time": "2023-08-14T16:58:48.881810356Z",
     "start_time": "2023-08-14T16:58:44.542985278Z"
    }
   }
  }
 ],
 "metadata": {
  "kernelspec": {
   "display_name": "Python 3",
   "language": "python",
   "name": "python3"
  },
  "language_info": {
   "codemirror_mode": {
    "name": "ipython",
    "version": 2
   },
   "file_extension": ".py",
   "mimetype": "text/x-python",
   "name": "python",
   "nbconvert_exporter": "python",
   "pygments_lexer": "ipython2",
   "version": "2.7.6"
  }
 },
 "nbformat": 4,
 "nbformat_minor": 0
}
